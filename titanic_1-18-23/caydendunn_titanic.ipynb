{
 "cells": [
  {
   "cell_type": "code",
   "execution_count": 1,
   "metadata": {},
   "outputs": [],
   "source": [
    "import pandas as pd\n",
    "import numpy as np\n",
    "import matplotlib.pyplot as plt\n",
    "\n",
    "# read in data from csv file\n",
    "test = pd.read_csv(r'data\\test.csv')\n",
    "train = pd.read_csv(r'data\\train.csv')\n",
    "gender_submission = pd.read_csv(r'data\\gender_submission.csv')"
   ]
  },
  {
   "cell_type": "markdown",
   "metadata": {},
   "source": [
    "# just a note\n",
    "I did this assingment a week ago before you handed out assingment guidelines that is why this is my own personal notebook. still left comments in the same way you asked for."
   ]
  },
  {
   "cell_type": "code",
   "execution_count": 2,
   "metadata": {},
   "outputs": [],
   "source": [
    "passenger_id = test['PassengerId']"
   ]
  },
  {
   "cell_type": "code",
   "execution_count": 3,
   "metadata": {},
   "outputs": [
    {
     "name": "stdout",
     "output_type": "stream",
     "text": [
      "<class 'pandas.core.frame.DataFrame'>\n",
      "RangeIndex: 418 entries, 0 to 417\n",
      "Data columns (total 11 columns):\n",
      " #   Column       Non-Null Count  Dtype  \n",
      "---  ------       --------------  -----  \n",
      " 0   PassengerId  418 non-null    int64  \n",
      " 1   Pclass       418 non-null    int64  \n",
      " 2   Name         418 non-null    object \n",
      " 3   Sex          418 non-null    object \n",
      " 4   Age          332 non-null    float64\n",
      " 5   SibSp        418 non-null    int64  \n",
      " 6   Parch        418 non-null    int64  \n",
      " 7   Ticket       418 non-null    object \n",
      " 8   Fare         417 non-null    float64\n",
      " 9   Cabin        91 non-null     object \n",
      " 10  Embarked     418 non-null    object \n",
      "dtypes: float64(2), int64(4), object(5)\n",
      "memory usage: 36.0+ KB\n"
     ]
    }
   ],
   "source": [
    "test.info()"
   ]
  },
  {
   "cell_type": "code",
   "execution_count": 4,
   "metadata": {},
   "outputs": [],
   "source": [
    "# 1 Cayden:\n",
    "# Drop the columns 'PassengerId', 'Name', 'Ticket', and 'Cabin' from the\n",
    "# training and test sets. The 'PassengerId' column is a unique identifier\n",
    "# number for each row, and it does not have any effect on the outcome.\n",
    "# The 'Name' and 'Ticket' columns are strings that do not have any effect\n",
    "# on the outcome. The 'Cabin' column has a lot of missing values, and it\n",
    "# also does not have any effect on the outcome.\n",
    "\n",
    "test = test.drop(['PassengerId', 'Ticket'], axis=1)\n",
    "train = train.drop(['PassengerId', 'Ticket'], axis=1)"
   ]
  },
  {
   "cell_type": "code",
   "execution_count": 5,
   "metadata": {},
   "outputs": [
    {
     "name": "stdout",
     "output_type": "stream",
     "text": [
      "<class 'pandas.core.frame.DataFrame'>\n",
      "RangeIndex: 418 entries, 0 to 417\n",
      "Data columns (total 9 columns):\n",
      " #   Column    Non-Null Count  Dtype  \n",
      "---  ------    --------------  -----  \n",
      " 0   Pclass    418 non-null    int64  \n",
      " 1   Name      418 non-null    object \n",
      " 2   Sex       418 non-null    object \n",
      " 3   Age       332 non-null    float64\n",
      " 4   SibSp     418 non-null    int64  \n",
      " 5   Parch     418 non-null    int64  \n",
      " 6   Fare      417 non-null    float64\n",
      " 7   Cabin     91 non-null     object \n",
      " 8   Embarked  418 non-null    object \n",
      "dtypes: float64(2), int64(3), object(4)\n",
      "memory usage: 29.5+ KB\n"
     ]
    }
   ],
   "source": [
    "test.info()"
   ]
  },
  {
   "cell_type": "code",
   "execution_count": 6,
   "metadata": {},
   "outputs": [
    {
     "name": "stdout",
     "output_type": "stream",
     "text": [
      "<class 'pandas.core.frame.DataFrame'>\n",
      "RangeIndex: 891 entries, 0 to 890\n",
      "Data columns (total 10 columns):\n",
      " #   Column    Non-Null Count  Dtype  \n",
      "---  ------    --------------  -----  \n",
      " 0   Survived  891 non-null    int64  \n",
      " 1   Pclass    891 non-null    int64  \n",
      " 2   Name      891 non-null    object \n",
      " 3   Sex       891 non-null    object \n",
      " 4   Age       714 non-null    float64\n",
      " 5   SibSp     891 non-null    int64  \n",
      " 6   Parch     891 non-null    int64  \n",
      " 7   Fare      891 non-null    float64\n",
      " 8   Cabin     204 non-null    object \n",
      " 9   Embarked  889 non-null    object \n",
      "dtypes: float64(2), int64(4), object(4)\n",
      "memory usage: 69.7+ KB\n"
     ]
    }
   ],
   "source": [
    "train.info()"
   ]
  },
  {
   "cell_type": "code",
   "execution_count": 7,
   "metadata": {},
   "outputs": [
    {
     "name": "stderr",
     "output_type": "stream",
     "text": [
      "C:\\Users\\cayde\\AppData\\Local\\Temp\\ipykernel_13236\\884109847.py:10: SettingWithCopyWarning: \n",
      "A value is trying to be set on a copy of a slice from a DataFrame\n",
      "\n",
      "See the caveats in the documentation: https://pandas.pydata.org/pandas-docs/stable/user_guide/indexing.html#returning-a-view-versus-a-copy\n",
      "  train['IsAlone'].loc[train['FamilySize'] > 1] = 0 # now update to no/0 if family size is greater than 1\n",
      "C:\\Users\\cayde\\AppData\\Local\\Temp\\ipykernel_13236\\884109847.py:12: SettingWithCopyWarning: \n",
      "A value is trying to be set on a copy of a slice from a DataFrame\n",
      "\n",
      "See the caveats in the documentation: https://pandas.pydata.org/pandas-docs/stable/user_guide/indexing.html#returning-a-view-versus-a-copy\n",
      "  test['IsAlone'].loc[test['FamilySize'] > 1] = 0 # now update to no/0 if family size is greater than 1\n"
     ]
    }
   ],
   "source": [
    "# 2 cayden: created 2 new features family size and is alone to hopefully improve the model. also filled in the missing values in the age and fare columns with the median.\n",
    "# i thought that the family size and is alone features would be useful because they would be able to tell the model if the person was alone or not. i also thought that the age and fare columns would be useful because they would be able to tell the model if the person was a child or an adult and if the person was rich or poor.\n",
    "\n",
    "# Create a new feature FamilySize as a combination of SibSp and Parch\n",
    "train['FamilySize'] = train['SibSp'] + train['Parch'] + 1\n",
    "test['FamilySize'] = test['SibSp'] + test['Parch'] + 1\n",
    "\n",
    "# Create new feature IsAlone from FamilySize\n",
    "train['IsAlone'] = 1 #initialize to yes/1 is alone\n",
    "train['IsAlone'].loc[train['FamilySize'] > 1] = 0 # now update to no/0 if family size is greater than 1\n",
    "test['IsAlone'] = 1 #initialize to yes/1 is alone\n",
    "test['IsAlone'].loc[test['FamilySize'] > 1] = 0 # now update to no/0 if family size is greater than 1\n",
    "\n",
    "# measure the correlation between family size and sibsp and parch and is alone\n",
    "correlation_df = train[['FamilySize', 'SibSp', 'Parch', 'IsAlone']].corr()\n",
    "\n",
    "# i also removed the is alone column because it is redundant with family size.\n",
    "\n",
    "test = test.drop(['IsAlone'], axis=1)\n",
    "train = train.drop(['IsAlone'], axis=1)\n",
    "\n",
    "# Fill in the missing values in the Age and Fare columns\n",
    "# In the training set, replace missing values with the median\n",
    "# In the test set, replace missing values with the median\n",
    "\n",
    "test['Age'] = test['Age'].fillna(test['Age'].median())\n",
    "test['Fare'] = test['Fare'].fillna(test['Fare'].median())\n",
    "\n",
    "train['Age'] = train['Age'].fillna(train['Age'].median())\n",
    "train['Fare'] = train['Fare'].fillna(train['Fare'].median())"
   ]
  },
  {
   "cell_type": "code",
   "execution_count": 8,
   "metadata": {},
   "outputs": [],
   "source": [
    "# 3 cayden: 1 hot encoded all categorical columns to hopefully improve the model.\n",
    "# i thought that the 1 hot encoding would be useful because it would be able to tell the model if the person was a child or an adult and if the person was rich or poor.\n",
    "\n",
    "# 1 hot encode the column 'Pclass'\n",
    "test = pd.get_dummies(test, columns=['Embarked'])\n",
    "test = pd.get_dummies(test, columns=['Sex'])\n",
    "\n",
    "train = pd.get_dummies(train, columns=['Embarked'])\n",
    "train = pd.get_dummies(train, columns=['Sex'])"
   ]
  },
  {
   "cell_type": "code",
   "execution_count": 9,
   "metadata": {},
   "outputs": [],
   "source": [
    "# 4 cayden: standardize the age and fare columns to hopefully improve the model.\n",
    "# why i did it: i thought that the standardization would be useful because it would be able to tell the model if the person was a child or an adult and if the person was rich or poor.\n",
    "# what was the result: the model did not improve at all. the accuracy was the same as before. i think that the model did not improve because the standardization was not very useful. i think that the standardization was not very useful because it was not very correlated with the survival column.\n",
    "\n",
    "# standardize the column age\n",
    "test['Age'] = (test['Age'] - test['Age'].mean()) / test['Age'].std()\n",
    "# standardize the column fare\n",
    "test['Fare'] = (test['Fare'] - test['Fare'].mean()) / test['Fare'].std()\n",
    "\n",
    "# do same standardization for train data\n",
    "train['Age'] = (train['Age'] - train['Age'].mean()) / train['Age'].std()\n",
    "train['Fare'] = (train['Fare'] - train['Fare'].mean()) / train['Fare'].std()"
   ]
  },
  {
   "cell_type": "code",
   "execution_count": 10,
   "metadata": {},
   "outputs": [
    {
     "data": {
      "image/png": "[encoded data removed]",
      "text/plain": [
       "<Figure size 432x288 with 1 Axes>"
      ]
     },
     "metadata": {
      "needs_background": "light"
     },
     "output_type": "display_data"
    }
   ],
   "source": [
    "#import sns \n",
    "import seaborn as sns\n",
    "\n",
    "# cayden 9: do families sink or swim together?\n",
    "\n",
    "#visualize the relationship between family size & survival\n",
    "sns.barplot(x='FamilySize', y='Survived', data=train)\n",
    "\n",
    "# Discretize family size. 1 = small, greater than 1 and smaller than 5 = medium, greater than or equal to 5 = large\n",
    "train['FamilySizeGroup'] = 'Small'\n",
    "train.loc[(train['FamilySize'] > 1) & (train['FamilySize'] < 5), 'FamilySizeGroup'] = 'Medium'\n",
    "train.loc[train['FamilySize'] >= 5, 'FamilySizeGroup'] = 'Large'\n",
    "\n",
    "test['FamilySizeGroup'] = 'Small'\n",
    "test.loc[(test['FamilySize'] > 1) & (test['FamilySize'] < 5), 'FamilySizeGroup'] = 'Medium'\n",
    "test.loc[test['FamilySize'] >= 5, 'FamilySizeGroup'] = 'Large'\n",
    "\n",
    "# 1 hot encode the column 'FamilySizeGroup'\n",
    "test = pd.get_dummies(test, columns=['FamilySizeGroup'])\n",
    "train = pd.get_dummies(train, columns=['FamilySizeGroup'])"
   ]
  },
  {
   "cell_type": "code",
   "execution_count": 11,
   "metadata": {},
   "outputs": [
    {
     "data": {
      "image/png": "[encoded data removed]",
      "text/plain": [
       "<Figure size 432x288 with 1 Axes>"
      ]
     },
     "metadata": {
      "needs_background": "light"
     },
     "output_type": "display_data"
    }
   ],
   "source": [
    "# Cayden 10: passenger cabin might have some useful information despite the missing values\n",
    "\n",
    "# create a new feature called deck and extract the first letter of the cabin\n",
    "train['Deck'] = train['Cabin'].str[0]\n",
    "test['Deck'] = test['Cabin'].str[0]\n",
    "\n",
    "# visualize the relationship between deck and survival\n",
    "sns.barplot(x='Deck', y='Survived', data=train)\n",
    "\n",
    "# drop the cabin column\n",
    "train = train.drop(['Cabin'], axis=1)\n",
    "test = test.drop(['Cabin'], axis=1)\n",
    "\n",
    "# 1 hot encode the column 'Deck'\n",
    "test = pd.get_dummies(test, columns=['Deck'])\n",
    "train = pd.get_dummies(train, columns=['Deck'])\n",
    "\n",
    "# drop deck T because it has no values\n",
    "train = train.drop(['Deck_T'], axis=1)"
   ]
  },
  {
   "cell_type": "code",
   "execution_count": 12,
   "metadata": {},
   "outputs": [
    {
     "name": "stdout",
     "output_type": "stream",
     "text": [
      "Mr          517\n",
      "Miss        182\n",
      "Mrs         125\n",
      "Master       40\n",
      "Dr            7\n",
      "Rev           6\n",
      "Mlle          2\n",
      "Major         2\n",
      "Col           2\n",
      "Countess      1\n",
      "Capt          1\n",
      "Ms            1\n",
      "Sir           1\n",
      "Lady          1\n",
      "Mme           1\n",
      "Don           1\n",
      "Jonkheer      1\n",
      "Name: Title, dtype: int64\n",
      "Mr        517\n",
      "Miss      182\n",
      "Mrs       125\n",
      "Master     40\n",
      "Other      27\n",
      "Name: Title, dtype: int64\n"
     ]
    },
    {
     "data": {
      "image/png": "[encoded data removed]",
      "text/plain": [
       "<Figure size 432x288 with 1 Axes>"
      ]
     },
     "metadata": {
      "needs_background": "light"
     },
     "output_type": "display_data"
    },
    {
     "data": {
      "image/png": "[encoded data removed]",
      "text/plain": [
       "<Figure size 720x360 with 2 Axes>"
      ]
     },
     "metadata": {
      "needs_background": "light"
     },
     "output_type": "display_data"
    }
   ],
   "source": [
    "# cayden 11: trying to extract value from name. can we figure out if we have any mothers on board? and their survival rate?\n",
    "# extract title from name\n",
    "train['Title'] = train['Name'].str.extract(' ([A-Za-z]+)\\.', expand=False)\n",
    "test['Title'] = test['Name'].str.extract(' ([A-Za-z]+)\\.', expand=False)\n",
    "\n",
    "# show the counts of each title\n",
    "print(train['Title'].value_counts())\n",
    "\n",
    "# if the frequency of a title is less than 40 then replace it with 'Other'\n",
    "train['Title'] = train['Title'].replace(['Mlle', 'Mme', 'Ms', 'Lady', 'Countess','Capt', 'Col','Don', 'Dr', 'Major', 'Rev', 'Sir', 'Jonkheer', 'Dona'], 'Other')\n",
    "test['Title'] = test['Title'].replace(['Mlle', 'Mme', 'Ms', 'Lady', 'Countess','Capt', 'Col','Don', 'Dr', 'Major', 'Rev', 'Sir', 'Jonkheer', 'Dona'], 'Other')\n",
    "\n",
    "# show the counts of each title\n",
    "print(train['Title'].value_counts())\n",
    "\n",
    "# visualize the relationship between title and survival\n",
    "sns.barplot(x='Title', y='Survived', data=train)\n",
    "\n",
    "# add a new column called is_child\n",
    "train['IsChild'] = 0\n",
    "train.loc[train['Age'] < 18, 'IsChild'] = 1\n",
    "\n",
    "test['IsChild'] = 0\n",
    "test.loc[test['Age'] < 18, 'IsChild'] = 1\n",
    "\n",
    "# add a new column called is_mother\n",
    "train['IsMother'] = 0\n",
    "train.loc[(train['Title'] != 'Miss') & (train['Parch'] > 0) & (train['Age'] > 18) & (train['Sex_female'] == 1), 'IsMother'] = 1\n",
    "\n",
    "test['IsMother'] = 0\n",
    "test.loc[(test['Title'] != 'Miss') & (test['Parch'] > 0) & (test['Age'] > 18) & (test['Sex_female'] == 1), 'IsMother'] = 1\n",
    "\n",
    "# create 2 plots side by side\n",
    "# first plot should visualize the relationship between is_child and survival\n",
    "# second plot should visualize the relationship between is_mother and survival\n",
    "fig, (axis1, axis2) = plt.subplots(1, 2, figsize=(10,5))\n",
    "sns.barplot(x='IsChild', y='Survived', data=train, ax=axis1)\n",
    "sns.barplot(x='IsMother', y='Survived', data=train, ax=axis2)\n",
    "\n",
    "# 1 hot encode the column 'Title'\n",
    "test = pd.get_dummies(test, columns=['Title'])\n",
    "train = pd.get_dummies(train, columns=['Title'])\n",
    "\n",
    "# drop the name column\n",
    "train = train.drop(['Name'], axis=1)\n",
    "test = test.drop(['Name'], axis=1)\n"
   ]
  },
  {
   "cell_type": "code",
   "execution_count": 13,
   "metadata": {},
   "outputs": [],
   "source": [
    "# make a copy of train so we can use it later\n",
    "train_copy = train.copy()"
   ]
  },
  {
   "cell_type": "code",
   "execution_count": 14,
   "metadata": {},
   "outputs": [],
   "source": [
    "y = train['Survived']\n",
    "X = train.drop(['Survived'], axis=1)\n",
    "\n",
    "from sklearn.model_selection import train_test_split\n",
    "\n",
    "# split the data into training and validation data, for both features and target\n",
    "train, val, train_labels, val_labels = train_test_split(X, y, random_state=1)"
   ]
  },
  {
   "cell_type": "code",
   "execution_count": 15,
   "metadata": {},
   "outputs": [
    {
     "name": "stdout",
     "output_type": "stream",
     "text": [
      "0.842814371257485\n",
      "0.8161434977578476\n"
     ]
    }
   ],
   "source": [
    "# using scikit-learn to build a random forest model\n",
    "from sklearn.ensemble import RandomForestClassifier\n",
    "\n",
    "# create the model\n",
    "model = RandomForestClassifier(n_estimators=1000, max_depth=5, random_state=1)\n",
    "\n",
    "# fit the model\n",
    "model.fit(train, train_labels)\n",
    "\n",
    "# make predictions for train data\n",
    "pred_train = model.predict(train)\n",
    "\n",
    "#get accuracy_score using sci-kit learn\n",
    "from sklearn.metrics import accuracy_score\n",
    "print(accuracy_score(train_labels, pred_train))\n",
    "\n",
    "# make predictions for validation data\n",
    "pred_val = model.predict(val)\n",
    "\n",
    "#get accuracy_score using sci-kit learn\n",
    "from sklearn.metrics import accuracy_score\n",
    "print(accuracy_score(val_labels, pred_val))\n",
    "\n",
    "# make predictions for test data\n",
    "pred_test = model.predict(test)\n"
   ]
  },
  {
   "cell_type": "code",
   "execution_count": 16,
   "metadata": {},
   "outputs": [
    {
     "name": "stdout",
     "output_type": "stream",
     "text": [
      "Variable: Title_Mr             Importance: 0.18\n",
      "Variable: Sex_female           Importance: 0.14\n",
      "Variable: Sex_male             Importance: 0.14\n",
      "Variable: Pclass               Importance: 0.08\n",
      "Variable: Fare                 Importance: 0.08\n",
      "Variable: Age                  Importance: 0.06\n",
      "Variable: FamilySize           Importance: 0.04\n",
      "Variable: Title_Miss           Importance: 0.04\n",
      "Variable: Title_Mrs            Importance: 0.04\n",
      "Variable: FamilySizeGroup_Large Importance: 0.03\n",
      "Variable: FamilySizeGroup_Medium Importance: 0.03\n",
      "Variable: SibSp                Importance: 0.02\n",
      "Variable: Parch                Importance: 0.02\n",
      "Variable: Title_Master         Importance: 0.02\n",
      "Variable: Embarked_C           Importance: 0.01\n",
      "Variable: Embarked_Q           Importance: 0.01\n",
      "Variable: Embarked_S           Importance: 0.01\n",
      "Variable: FamilySizeGroup_Small Importance: 0.01\n",
      "Variable: Deck_B               Importance: 0.01\n",
      "Variable: Deck_C               Importance: 0.01\n",
      "Variable: Deck_E               Importance: 0.01\n",
      "Variable: Title_Other          Importance: 0.01\n",
      "Variable: Deck_A               Importance: 0.0\n",
      "Variable: Deck_D               Importance: 0.0\n",
      "Variable: Deck_F               Importance: 0.0\n",
      "Variable: Deck_G               Importance: 0.0\n",
      "Variable: IsChild              Importance: 0.0\n",
      "Variable: IsMother             Importance: 0.0\n"
     ]
    },
    {
     "data": {
      "image/png": "[encoded data removed]",
      "text/plain": [
       "<Figure size 432x288 with 1 Axes>"
      ]
     },
     "metadata": {
      "needs_background": "light"
     },
     "output_type": "display_data"
    }
   ],
   "source": [
    "# cayden 6: feature importance\n",
    "# why i did it: i thought that the feature importance would be useful because it would be able to tell me which features were the most important.\n",
    "\n",
    "# get numerical feature importances\n",
    "importances = list(model.feature_importances_)\n",
    "# list of tuples with variable and importance\n",
    "feature_importances = [(feature, round(importance, 2)) for feature, importance in zip(train.columns, importances)]\n",
    "# sort the feature importances by most important first\n",
    "feature_importances = sorted(feature_importances, key = lambda x: x[1], reverse = True)\n",
    "# print out the feature and importances\n",
    "[print('Variable: {:20} Importance: {}'.format(*pair)) for pair in feature_importances];\n",
    "\n",
    "# cayden 7: feature importance graph\n",
    "# why i did it: i thought that the feature importance graph would be useful because it would be able to tell me which features were the most important.\n",
    "\n",
    "# list of x locations for plotting\n",
    "x_values = list(range(len(importances)))\n",
    "# make a bar chart\n",
    "plt.bar(x_values, importances, orientation = 'vertical')\n",
    "# tick labels for x axis\n",
    "plt.xticks(x_values, train.columns, rotation='vertical')\n",
    "# axis labels and title\n",
    "plt.ylabel('Importance'); plt.xlabel('Variable'); plt.title('Variable Importances');\n",
    "\n"
   ]
  },
  {
   "cell_type": "code",
   "execution_count": 17,
   "metadata": {},
   "outputs": [],
   "source": [
    "# destory the old model\n",
    "del model\n"
   ]
  },
  {
   "cell_type": "code",
   "execution_count": 18,
   "metadata": {},
   "outputs": [
    {
     "name": "stdout",
     "output_type": "stream",
     "text": [
      "0.8592814371257484\n",
      "0.8071748878923767\n"
     ]
    }
   ],
   "source": [
    "# cayden 13: try running the model again with only the top 10 features\n",
    "# why i did it: i thought that the model would be more accurate if i only used the top 10 features\n",
    "\n",
    "# create a new dataframe with only the top 10 features\n",
    "\n",
    "# get the top 10 features\n",
    "\n",
    "# create a new dataframe with only the top 10 features\n",
    "top_10_features = [pair[0] for pair in feature_importances[0:10]]\n",
    "top_10_features.append('Survived')\n",
    "top_10_train = train_copy[top_10_features]\n",
    "\n",
    "# split the data into training and validation data, for both features and target\n",
    "train, val, train_labels, val_labels = train_test_split(top_10_train.drop(['Survived'], axis=1), top_10_train['Survived'], random_state=1)\n",
    "\n",
    "# create the model\n",
    "model = RandomForestClassifier(n_estimators=1000, max_depth=5, random_state=1)\n",
    "\n",
    "# fit the model\n",
    "model.fit(train, train_labels)\n",
    "\n",
    "# make predictions for train data\n",
    "pred_train = model.predict(train)\n",
    "\n",
    "#get accuracy_score using sci-kit learn\n",
    "from sklearn.metrics import accuracy_score\n",
    "print(accuracy_score(train_labels, pred_train))\n",
    "\n",
    "# make predictions for validation data\n",
    "pred_val = model.predict(val)\n",
    "\n",
    "#get accuracy_score using sci-kit learn\n",
    "from sklearn.metrics import accuracy_score\n",
    "print(accuracy_score(val_labels, pred_val))\n",
    "\n",
    "# change test to only have the top 10 features\n",
    "test_top_10 = test[top_10_features[0:10]]\n",
    "\n",
    "# make predictions for test data\n",
    "pred_test = model.predict(test_top_10)\n",
    "\n"
   ]
  },
  {
   "cell_type": "code",
   "execution_count": 19,
   "metadata": {},
   "outputs": [],
   "source": [
    "# create a submission dataframe\n",
    "submission = pd.DataFrame({'PassengerId': passenger_id, 'Survived': pred_test})\n",
    "# convert the dataframe to a csv file that can be uploaded\n",
    "# this is saved in the same directory as your notebook\n",
    "filename = 'titanic-predictions.csv'\n",
    "\n",
    "submission.to_csv(filename, index=False)"
   ]
  },
  {
   "cell_type": "code",
   "execution_count": 20,
   "metadata": {},
   "outputs": [],
   "source": [
    "# cayden 8: take top 5 features and make a new model with lazy learn\n",
    "# grab top 5 freature from dataset \n",
    "# drop these columns from train and val 'Sex_female', 'Sex_male', 'Pclass', 'Fare', 'Age'\n",
    "\n",
    "y_2 = train_copy['Survived']\n",
    "X_2 = train_copy.drop(['Survived'], axis=1)\n",
    "\n",
    "from sklearn.model_selection import train_test_split\n",
    "\n",
    "# split the data into training and validation data, for both features and target\n",
    "train, val, train_labels, val_labels = train_test_split(X_2, y_2, random_state=1)"
   ]
  },
  {
   "cell_type": "code",
   "execution_count": 21,
   "metadata": {},
   "outputs": [
    {
     "name": "stderr",
     "output_type": "stream",
     "text": [
      "100%|██████████| 29/29 [00:00<00:00, 29.95it/s]\n"
     ]
    },
    {
     "name": "stdout",
     "output_type": "stream",
     "text": [
      "                               Accuracy  Balanced Accuracy  ROC AUC  F1 Score  \\\n",
      "Model                                                                           \n",
      "RidgeClassifierCV                  0.83               0.81     0.81      0.82   \n",
      "LogisticRegression                 0.82               0.81     0.81      0.81   \n",
      "LinearSVC                          0.82               0.80     0.80      0.81   \n",
      "CalibratedClassifierCV             0.82               0.80     0.80      0.81   \n",
      "RidgeClassifier                    0.82               0.80     0.80      0.81   \n",
      "LinearDiscriminantAnalysis         0.81               0.80     0.80      0.81   \n",
      "NuSVC                              0.80               0.79     0.79      0.80   \n",
      "NearestCentroid                    0.80               0.79     0.79      0.80   \n",
      "GaussianNB                         0.79               0.79     0.79      0.79   \n",
      "SVC                                0.80               0.78     0.78      0.80   \n",
      "BernoulliNB                        0.78               0.78     0.78      0.78   \n",
      "LGBMClassifier                     0.78               0.77     0.77      0.78   \n",
      "XGBClassifier                      0.77               0.75     0.75      0.77   \n",
      "RandomForestClassifier             0.77               0.75     0.75      0.76   \n",
      "AdaBoostClassifier                 0.76               0.75     0.75      0.76   \n",
      "Perceptron                         0.75               0.75     0.75      0.75   \n",
      "KNeighborsClassifier               0.76               0.74     0.74      0.76   \n",
      "BaggingClassifier                  0.75               0.73     0.73      0.75   \n",
      "ExtraTreesClassifier               0.74               0.73     0.73      0.74   \n",
      "DecisionTreeClassifier             0.73               0.72     0.72      0.73   \n",
      "ExtraTreeClassifier                0.72               0.70     0.70      0.71   \n",
      "SGDClassifier                      0.70               0.68     0.68      0.69   \n",
      "LabelSpreading                     0.70               0.67     0.67      0.68   \n",
      "LabelPropagation                   0.69               0.67     0.67      0.68   \n",
      "QuadraticDiscriminantAnalysis      0.60               0.53     0.53      0.48   \n",
      "DummyClassifier                    0.57               0.50     0.50      0.42   \n",
      "PassiveAggressiveClassifier        0.36               0.35     0.35      0.36   \n",
      "\n",
      "                               Time Taken  \n",
      "Model                                      \n",
      "RidgeClassifierCV                    0.01  \n",
      "LogisticRegression                   0.02  \n",
      "LinearSVC                            0.04  \n",
      "CalibratedClassifierCV               0.14  \n",
      "RidgeClassifier                      0.01  \n",
      "LinearDiscriminantAnalysis           0.01  \n",
      "NuSVC                                0.03  \n",
      "NearestCentroid                      0.01  \n",
      "GaussianNB                           0.01  \n",
      "SVC                                  0.02  \n",
      "BernoulliNB                          0.01  \n",
      "LGBMClassifier                       0.04  \n",
      "XGBClassifier                        0.05  \n",
      "RandomForestClassifier               0.14  \n",
      "AdaBoostClassifier                   0.07  \n",
      "Perceptron                           0.01  \n",
      "KNeighborsClassifier                 0.07  \n",
      "BaggingClassifier                    0.03  \n",
      "ExtraTreesClassifier                 0.12  \n",
      "DecisionTreeClassifier               0.01  \n",
      "ExtraTreeClassifier                  0.01  \n",
      "SGDClassifier                        0.01  \n",
      "LabelSpreading                       0.03  \n",
      "LabelPropagation                     0.03  \n",
      "QuadraticDiscriminantAnalysis        0.01  \n",
      "DummyClassifier                      0.01  \n",
      "PassiveAggressiveClassifier          0.01  \n",
      "0.844311377245509\n",
      "0.8161434977578476\n"
     ]
    }
   ],
   "source": [
    "# 5 cayden:  i used lazy predict to find the best model. then i used best model from lazypred( logistic regression) to make predictions for test data. (i also tried using the random forest model from scikit learn but it did not perform as well as the logistic regression model\n",
    "# i thought that the lazy predict would be useful because it would be able to tell me which model would be the best to use. i thought that the best model would be the best to use because it would be able to make the best predictions.\n",
    "\n",
    "from lazypredict.Supervised import LazyClassifier\n",
    "from sklearn.model_selection import train_test_split\n",
    "from sklearn import datasets\n",
    "\n",
    "# convert the data to numpy arrays\n",
    "train = train.to_numpy()\n",
    "val = val.to_numpy()\n",
    "train_labels = train_labels.to_numpy()\n",
    "val_labels = val_labels.to_numpy()\n",
    "\n",
    "#using train, val, train_labels, val_labels use lazy predict to find the best model\n",
    "clf = LazyClassifier(verbose=0,ignore_warnings=True, custom_metric=None)\n",
    "models, predictions = clf.fit(train, val, train_labels, val_labels)\n",
    "print(models)\n",
    "\n",
    "# use LogisticRegression model to make predictions for test data\n",
    "from sklearn.linear_model import LogisticRegression\n",
    "from sklearn.model_selection import train_test_split\n",
    "# model = LogisticRegression(max_iter=1000, random_state= 1)\n",
    "# use RidgeClassifierCV model to make predictions for test data\n",
    "from sklearn.linear_model import RidgeClassifierCV\n",
    "model = RidgeClassifierCV(alphas=[1e-3, 1e-2, 1e-1, 1.0], cv=5)\n",
    "\n",
    "# split the data into training and validation data, for both features and target\n",
    "train, val, train_labels, val_labels = train_test_split(X, y, random_state=1)\n",
    "\n",
    "# fit the model\n",
    "model.fit(train, train_labels)\n",
    "\n",
    "# make predictions for train data\n",
    "pred_train = model.predict(train)\n",
    "\n",
    "#get accuracy_score using sci-kit learn\n",
    "from sklearn.metrics import accuracy_score\n",
    "print(accuracy_score(train_labels, pred_train))\n",
    "\n",
    "# make predictions for validation data\n",
    "pred_val = model.predict(val)\n",
    "\n",
    "#get accuracy_score using sci-kit learn\n",
    "from sklearn.metrics import accuracy_score\n",
    "print(accuracy_score(val_labels, pred_val))\n",
    "\n",
    "# make predictions for test data\n",
    "pred_test = model.predict(test)"
   ]
  },
  {
   "cell_type": "code",
   "execution_count": 22,
   "metadata": {},
   "outputs": [],
   "source": [
    "# create a submission dataframe\n",
    "submission = pd.DataFrame({'PassengerId': passenger_id, 'Survived': pred_test})\n",
    "# convert the dataframe to a csv file that can be uploaded\n",
    "# this is saved in the same directory as your notebook\n",
    "filename = 'titanic-predictions.csv'\n",
    "\n",
    "submission.to_csv(filename, index=False)"
   ]
  },
  {
   "cell_type": "code",
   "execution_count": null,
   "metadata": {},
   "outputs": [],
   "source": []
  },
  {
   "cell_type": "markdown",
   "metadata": {},
   "source": [
    "![sub1_clas__sub2_rf](kaggle_score.PNG)"
   ]
  }
 ],
 "metadata": {
  "kernelspec": {
   "display_name": "Python 3 (ipykernel)",
   "language": "python",
   "name": "python3"
  },
  "language_info": {
   "codemirror_mode": {
    "name": "ipython",
    "version": 3
   },
   "file_extension": ".py",
   "mimetype": "text/x-python",
   "name": "python",
   "nbconvert_exporter": "python",
   "pygments_lexer": "ipython3",
   "version": "3.8.10"
  },
  "vscode": {
   "interpreter": {
    "hash": "e1ebc6ce21e20a44ca2e939d468f8c4914f49f277b8be916293753b9e7a9feef"
   }
  }
 },
 "nbformat": 4,
 "nbformat_minor": 2
}
